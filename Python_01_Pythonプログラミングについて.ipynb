{
  "nbformat": 4,
  "nbformat_minor": 0,
  "metadata": {
    "colab": {
      "provenance": []
    },
    "kernelspec": {
      "name": "python3",
      "display_name": "Python 3"
    },
    "language_info": {
      "name": "python"
    }
  },
  "cells": [
    {
      "cell_type": "markdown",
      "source": [
        "### Pythonを実行する方法1: REPLを使う"
      ],
      "metadata": {
        "id": "fiaSg5_XOTRi"
      }
    },
    {
      "cell_type": "markdown",
      "source": [
        "公式のオンラインREPLを利用する\n",
        "\n",
        "[Python Shell](https://www.python.org/shell/)"
      ],
      "metadata": {
        "id": "pOQ6dEFbOgtQ"
      }
    },
    {
      "cell_type": "markdown",
      "source": [
        "### Pythonを実行する方法2: 「.pyファイル」を作る"
      ],
      "metadata": {
        "id": "gAJnVAnsOn-R"
      }
    },
    {
      "cell_type": "code",
      "source": [
        "%%writefile example.py\n",
        "print(\"Hello, world!\")"
      ],
      "metadata": {
        "colab": {
          "base_uri": "https://localhost:8080/"
        },
        "id": "vhrCSnJlPeI8",
        "outputId": "ef688811-0015-4b84-a4e0-175c932c9582"
      },
      "execution_count": null,
      "outputs": [
        {
          "output_type": "stream",
          "name": "stdout",
          "text": [
            "Writing example.py\n"
          ]
        }
      ]
    },
    {
      "cell_type": "code",
      "source": [
        "!python example.py"
      ],
      "metadata": {
        "colab": {
          "base_uri": "https://localhost:8080/"
        },
        "id": "_YzeyNvcRXlQ",
        "outputId": "8162cbc9-d7f5-4d56-bc0d-c4ec692e166e"
      },
      "execution_count": null,
      "outputs": [
        {
          "output_type": "stream",
          "name": "stdout",
          "text": [
            "Hello, world!\n"
          ]
        }
      ]
    },
    {
      "cell_type": "markdown",
      "source": [
        "### Pythonを実行する方法3: Jupyter Notebookを使う"
      ],
      "metadata": {
        "id": "gxwkdM2fR9v9"
      }
    },
    {
      "cell_type": "code",
      "source": [
        "print(\"Hello, world!\")"
      ],
      "metadata": {
        "colab": {
          "base_uri": "https://localhost:8080/"
        },
        "id": "ahtR-d2UR-WP",
        "outputId": "e44c43de-34b1-4521-a2d7-8e14561b3e48"
      },
      "execution_count": null,
      "outputs": [
        {
          "output_type": "stream",
          "name": "stdout",
          "text": [
            "Hello, world!\n"
          ]
        }
      ]
    }
  ]
}